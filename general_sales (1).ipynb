{
 "cells": [
  {
   "cell_type": "markdown",
   "id": "d8dddfc7-5c62-4f61-97f5-fcbf0eaf1f44",
   "metadata": {
    "jp-MarkdownHeadingCollapsed": true,
    "tags": []
   },
   "source": [
    "## Imports and Start Up"
   ]
  },
  {
   "cell_type": "code",
   "execution_count": 1,
   "id": "a1d693eb-5cb1-4f66-92f5-2552a6654f58",
   "metadata": {},
   "outputs": [],
   "source": [
    "#Import packages\n",
    "import pandas as pd\n",
    "import numpy as np"
   ]
  },
  {
   "cell_type": "code",
   "execution_count": 2,
   "id": "c8a1f98f-184e-41f3-8c6f-e2c7c577a7c7",
   "metadata": {},
   "outputs": [],
   "source": [
    "#Import csv\n",
    "combined_crm = pd.read_csv(\"combined_crm.csv\").drop(columns = \"x\")"
   ]
  },
  {
   "cell_type": "markdown",
   "id": "81e1a50f-8d96-477c-bbc9-8e1eeef06da8",
   "metadata": {
    "jp-MarkdownHeadingCollapsed": true,
    "tags": []
   },
   "source": [
    "## Creating Dataframes"
   ]
  },
  {
   "cell_type": "code",
   "execution_count": 3,
   "id": "063678da-d3e3-4338-8d15-7e9c71e1e815",
   "metadata": {},
   "outputs": [
    {
     "data": {
      "text/html": [
       "<div>\n",
       "<style scoped>\n",
       "    .dataframe tbody tr th:only-of-type {\n",
       "        vertical-align: middle;\n",
       "    }\n",
       "\n",
       "    .dataframe tbody tr th {\n",
       "        vertical-align: top;\n",
       "    }\n",
       "\n",
       "    .dataframe thead th {\n",
       "        text-align: right;\n",
       "    }\n",
       "</style>\n",
       "<table border=\"1\" class=\"dataframe\">\n",
       "  <thead>\n",
       "    <tr style=\"text-align: right;\">\n",
       "      <th></th>\n",
       "      <th>Lead Source</th>\n",
       "      <th>Status</th>\n",
       "      <th>Enquiry Month</th>\n",
       "      <th>Client Prospected</th>\n",
       "      <th>Google Ads Approximation</th>\n",
       "    </tr>\n",
       "  </thead>\n",
       "  <tbody>\n",
       "    <tr>\n",
       "      <th>895</th>\n",
       "      <td>Repeat - Platform</td>\n",
       "      <td>Lost 'Other'</td>\n",
       "      <td>1</td>\n",
       "      <td>Not Sent Prospecting Email</td>\n",
       "      <td>-</td>\n",
       "    </tr>\n",
       "    <tr>\n",
       "      <th>896</th>\n",
       "      <td>Repeat - Platform</td>\n",
       "      <td>Lost 'Other'</td>\n",
       "      <td>1</td>\n",
       "      <td>Not Sent Prospecting Email</td>\n",
       "      <td>-</td>\n",
       "    </tr>\n",
       "    <tr>\n",
       "      <th>897</th>\n",
       "      <td>Repeat - Platform</td>\n",
       "      <td>Closed</td>\n",
       "      <td>1</td>\n",
       "      <td>Sent Prospecting Email</td>\n",
       "      <td>-</td>\n",
       "    </tr>\n",
       "    <tr>\n",
       "      <th>898</th>\n",
       "      <td>New - Platform</td>\n",
       "      <td>Lost 'Other'</td>\n",
       "      <td>1</td>\n",
       "      <td>Not Sent Prospecting Email</td>\n",
       "      <td>Ad Generated</td>\n",
       "    </tr>\n",
       "    <tr>\n",
       "      <th>899</th>\n",
       "      <td>New - Platform</td>\n",
       "      <td>Lost 'Other'</td>\n",
       "      <td>1</td>\n",
       "      <td>Sent Prospecting Email</td>\n",
       "      <td>-</td>\n",
       "    </tr>\n",
       "    <tr>\n",
       "      <th>...</th>\n",
       "      <td>...</td>\n",
       "      <td>...</td>\n",
       "      <td>...</td>\n",
       "      <td>...</td>\n",
       "      <td>...</td>\n",
       "    </tr>\n",
       "    <tr>\n",
       "      <th>5319</th>\n",
       "      <td>New - Platform</td>\n",
       "      <td>Lost ‘No Response’</td>\n",
       "      <td>12</td>\n",
       "      <td>Not Sent Prospecting Email</td>\n",
       "      <td>Ad Generated</td>\n",
       "    </tr>\n",
       "    <tr>\n",
       "      <th>5321</th>\n",
       "      <td>New - Platform</td>\n",
       "      <td>Responded</td>\n",
       "      <td>12</td>\n",
       "      <td>Not Sent Prospecting Email</td>\n",
       "      <td>Ad Generated</td>\n",
       "    </tr>\n",
       "    <tr>\n",
       "      <th>5322</th>\n",
       "      <td>New - Platform</td>\n",
       "      <td>Responded</td>\n",
       "      <td>12</td>\n",
       "      <td>Not Sent Prospecting Email</td>\n",
       "      <td>Ad Generated</td>\n",
       "    </tr>\n",
       "    <tr>\n",
       "      <th>5323</th>\n",
       "      <td>New - Platform</td>\n",
       "      <td>Assigned Forecast</td>\n",
       "      <td>1</td>\n",
       "      <td>Sent Prospecting Email</td>\n",
       "      <td>-</td>\n",
       "    </tr>\n",
       "    <tr>\n",
       "      <th>5324</th>\n",
       "      <td>New - Inbound Email</td>\n",
       "      <td>Responded</td>\n",
       "      <td>1</td>\n",
       "      <td>Not Sent Prospecting Email</td>\n",
       "      <td>Ad Generated</td>\n",
       "    </tr>\n",
       "  </tbody>\n",
       "</table>\n",
       "<p>3193 rows × 5 columns</p>\n",
       "</div>"
      ],
      "text/plain": [
       "              Lead Source              Status  Enquiry Month  \\\n",
       "895     Repeat - Platform        Lost 'Other'              1   \n",
       "896     Repeat - Platform        Lost 'Other'              1   \n",
       "897     Repeat - Platform              Closed              1   \n",
       "898        New - Platform        Lost 'Other'              1   \n",
       "899        New - Platform        Lost 'Other'              1   \n",
       "...                   ...                 ...            ...   \n",
       "5319       New - Platform  Lost ‘No Response’             12   \n",
       "5321       New - Platform           Responded             12   \n",
       "5322       New - Platform           Responded             12   \n",
       "5323       New - Platform   Assigned Forecast              1   \n",
       "5324  New - Inbound Email           Responded              1   \n",
       "\n",
       "               Client Prospected Google Ads Approximation  \n",
       "895   Not Sent Prospecting Email                        -  \n",
       "896   Not Sent Prospecting Email                        -  \n",
       "897       Sent Prospecting Email                        -  \n",
       "898   Not Sent Prospecting Email             Ad Generated  \n",
       "899       Sent Prospecting Email                        -  \n",
       "...                          ...                      ...  \n",
       "5319  Not Sent Prospecting Email             Ad Generated  \n",
       "5321  Not Sent Prospecting Email             Ad Generated  \n",
       "5322  Not Sent Prospecting Email             Ad Generated  \n",
       "5323      Sent Prospecting Email                        -  \n",
       "5324  Not Sent Prospecting Email             Ad Generated  \n",
       "\n",
       "[3193 rows x 5 columns]"
      ]
     },
     "execution_count": 3,
     "metadata": {},
     "output_type": "execute_result"
    }
   ],
   "source": [
    "#Indexing combined_crm\n",
    "combined_crm = combined_crm[[\"Lead Source\",\"Status\",\"Enquiry Month\",\"Client Prospected\",\"Google Ads Approximation\"]]\n",
    "combined_crm = combined_crm.dropna(how = \"any\", axis = 0)\n",
    "combined_crm = combined_crm[combined_crm[\"Enquiry Month\"].str.contains(\"-\") == False]\n",
    "combined_crm[\"Enquiry Month\"] = pd.to_numeric(combined_crm[\"Enquiry Month\"])\n",
    "combined_crm"
   ]
  },
  {
   "cell_type": "code",
   "execution_count": 4,
   "id": "94edea91-a723-4853-af3a-9571124c8129",
   "metadata": {},
   "outputs": [],
   "source": [
    "#create dataframes for new and repeat business\n",
    "crm_new = combined_crm[combined_crm[\"Lead Source\"].str.contains(\"New\", regex = False)]\n",
    "crm_repeat = combined_crm[combined_crm[\"Lead Source\"].str.contains(\"Repeat\", regex = False)]"
   ]
  },
  {
   "cell_type": "markdown",
   "id": "087bbe48-2bce-4a0d-a152-039ae8ddad5b",
   "metadata": {
    "tags": []
   },
   "source": [
    "## CRM New"
   ]
  },
  {
   "cell_type": "markdown",
   "id": "540d2aec-5f79-41e4-ae15-cf683c611894",
   "metadata": {
    "jp-MarkdownHeadingCollapsed": true,
    "tags": []
   },
   "source": [
    "### Enquires"
   ]
  },
  {
   "cell_type": "markdown",
   "id": "b95d1bf1-ebfb-465c-a86c-48f31b0dcc94",
   "metadata": {
    "tags": []
   },
   "source": [
    "#### Total"
   ]
  },
  {
   "cell_type": "code",
   "execution_count": 5,
   "id": "37a662be-8197-4bc6-bb76-e96bc846a423",
   "metadata": {},
   "outputs": [
    {
     "data": {
      "text/html": [
       "<div>\n",
       "<style scoped>\n",
       "    .dataframe tbody tr th:only-of-type {\n",
       "        vertical-align: middle;\n",
       "    }\n",
       "\n",
       "    .dataframe tbody tr th {\n",
       "        vertical-align: top;\n",
       "    }\n",
       "\n",
       "    .dataframe thead th {\n",
       "        text-align: right;\n",
       "    }\n",
       "</style>\n",
       "<table border=\"1\" class=\"dataframe\">\n",
       "  <thead>\n",
       "    <tr style=\"text-align: right;\">\n",
       "      <th>Enquiry Month</th>\n",
       "      <th>1</th>\n",
       "      <th>2</th>\n",
       "      <th>3</th>\n",
       "      <th>4</th>\n",
       "      <th>5</th>\n",
       "      <th>6</th>\n",
       "      <th>7</th>\n",
       "      <th>8</th>\n",
       "      <th>9</th>\n",
       "      <th>10</th>\n",
       "      <th>11</th>\n",
       "      <th>12</th>\n",
       "    </tr>\n",
       "  </thead>\n",
       "  <tbody>\n",
       "    <tr>\n",
       "      <th>Lead Source</th>\n",
       "      <td>195</td>\n",
       "      <td>222</td>\n",
       "      <td>194</td>\n",
       "      <td>125</td>\n",
       "      <td>107</td>\n",
       "      <td>141</td>\n",
       "      <td>94</td>\n",
       "      <td>76</td>\n",
       "      <td>85</td>\n",
       "      <td>155</td>\n",
       "      <td>146</td>\n",
       "      <td>108</td>\n",
       "    </tr>\n",
       "  </tbody>\n",
       "</table>\n",
       "</div>"
      ],
      "text/plain": [
       "Enquiry Month   1    2    3    4    5    6   7   8   9    10   11   12\n",
       "Lead Source    195  222  194  125  107  141  94  76  85  155  146  108"
      ]
     },
     "execution_count": 5,
     "metadata": {},
     "output_type": "execute_result"
    }
   ],
   "source": [
    "#grouping by enquiry month\n",
    "crm_new_total = crm_new[[\"Enquiry Month\",\"Lead Source\"]]\n",
    "crm_new_total.groupby([\"Enquiry Month\"]).count().sort_values(by = [\"Enquiry Month\"]).swapaxes(\"index\",\"columns\")"
   ]
  },
  {
   "cell_type": "markdown",
   "id": "ca5c7f42-c8c5-4379-b51a-c55c5f0c05f9",
   "metadata": {
    "tags": []
   },
   "source": [
    "#### Prospected and Google"
   ]
  },
  {
   "cell_type": "code",
   "execution_count": 6,
   "id": "0979cf0e-0538-43bb-9c53-6f14fcda3eb8",
   "metadata": {},
   "outputs": [
    {
     "data": {
      "text/html": [
       "<div>\n",
       "<style scoped>\n",
       "    .dataframe tbody tr th:only-of-type {\n",
       "        vertical-align: middle;\n",
       "    }\n",
       "\n",
       "    .dataframe tbody tr th {\n",
       "        vertical-align: top;\n",
       "    }\n",
       "\n",
       "    .dataframe thead th {\n",
       "        text-align: right;\n",
       "    }\n",
       "</style>\n",
       "<table border=\"1\" class=\"dataframe\">\n",
       "  <thead>\n",
       "    <tr style=\"text-align: right;\">\n",
       "      <th>Enquiry Month</th>\n",
       "      <th>1</th>\n",
       "      <th>2</th>\n",
       "      <th>3</th>\n",
       "      <th>4</th>\n",
       "      <th>5</th>\n",
       "      <th>6</th>\n",
       "      <th>7</th>\n",
       "      <th>8</th>\n",
       "      <th>9</th>\n",
       "      <th>10</th>\n",
       "      <th>11</th>\n",
       "      <th>12</th>\n",
       "    </tr>\n",
       "    <tr>\n",
       "      <th>Client Prospected</th>\n",
       "      <th></th>\n",
       "      <th></th>\n",
       "      <th></th>\n",
       "      <th></th>\n",
       "      <th></th>\n",
       "      <th></th>\n",
       "      <th></th>\n",
       "      <th></th>\n",
       "      <th></th>\n",
       "      <th></th>\n",
       "      <th></th>\n",
       "      <th></th>\n",
       "    </tr>\n",
       "  </thead>\n",
       "  <tbody>\n",
       "    <tr>\n",
       "      <th>Not Sent Prospecting Email</th>\n",
       "      <td>149</td>\n",
       "      <td>159</td>\n",
       "      <td>125</td>\n",
       "      <td>70</td>\n",
       "      <td>69</td>\n",
       "      <td>64</td>\n",
       "      <td>34</td>\n",
       "      <td>49</td>\n",
       "      <td>71</td>\n",
       "      <td>82</td>\n",
       "      <td>107</td>\n",
       "      <td>94</td>\n",
       "    </tr>\n",
       "    <tr>\n",
       "      <th>Sent Prospecting Email</th>\n",
       "      <td>46</td>\n",
       "      <td>63</td>\n",
       "      <td>69</td>\n",
       "      <td>55</td>\n",
       "      <td>38</td>\n",
       "      <td>77</td>\n",
       "      <td>60</td>\n",
       "      <td>27</td>\n",
       "      <td>14</td>\n",
       "      <td>73</td>\n",
       "      <td>39</td>\n",
       "      <td>14</td>\n",
       "    </tr>\n",
       "  </tbody>\n",
       "</table>\n",
       "</div>"
      ],
      "text/plain": [
       "Enquiry Month                1    2    3   4   5   6   7   8   9   10   11  12\n",
       "Client Prospected                                                             \n",
       "Not Sent Prospecting Email  149  159  125  70  69  64  34  49  71  82  107  94\n",
       "Sent Prospecting Email       46   63   69  55  38  77  60  27  14  73   39  14"
      ]
     },
     "execution_count": 6,
     "metadata": {},
     "output_type": "execute_result"
    }
   ],
   "source": [
    "#grouping by prospected\n",
    "crm_new_prospected = crm_new.groupby([\"Enquiry Month\",\"Client Prospected\"]).count().sort_values(by = [\"Enquiry Month\"]).pivot_table(index = [\"Client Prospected\"], columns = \"Enquiry Month\", values = \"Lead Source\")\n",
    "crm_new_prospected"
   ]
  },
  {
   "cell_type": "code",
   "execution_count": 7,
   "id": "8d0b43c9-6f27-4a38-a9e3-c03b8f76997e",
   "metadata": {},
   "outputs": [
    {
     "data": {
      "text/html": [
       "<div>\n",
       "<style scoped>\n",
       "    .dataframe tbody tr th:only-of-type {\n",
       "        vertical-align: middle;\n",
       "    }\n",
       "\n",
       "    .dataframe tbody tr th {\n",
       "        vertical-align: top;\n",
       "    }\n",
       "\n",
       "    .dataframe thead th {\n",
       "        text-align: right;\n",
       "    }\n",
       "</style>\n",
       "<table border=\"1\" class=\"dataframe\">\n",
       "  <thead>\n",
       "    <tr style=\"text-align: right;\">\n",
       "      <th>Enquiry Month</th>\n",
       "      <th>1</th>\n",
       "      <th>2</th>\n",
       "      <th>3</th>\n",
       "      <th>4</th>\n",
       "      <th>5</th>\n",
       "      <th>6</th>\n",
       "      <th>7</th>\n",
       "      <th>8</th>\n",
       "      <th>9</th>\n",
       "      <th>10</th>\n",
       "      <th>11</th>\n",
       "      <th>12</th>\n",
       "    </tr>\n",
       "  </thead>\n",
       "  <tbody>\n",
       "    <tr>\n",
       "      <th>Google Ads Approximation</th>\n",
       "      <td>149</td>\n",
       "      <td>159</td>\n",
       "      <td>125</td>\n",
       "      <td>70</td>\n",
       "      <td>69</td>\n",
       "      <td>64</td>\n",
       "      <td>34</td>\n",
       "      <td>49</td>\n",
       "      <td>71</td>\n",
       "      <td>82</td>\n",
       "      <td>107</td>\n",
       "      <td>94</td>\n",
       "    </tr>\n",
       "  </tbody>\n",
       "</table>\n",
       "</div>"
      ],
      "text/plain": [
       "Enquiry Month              1    2    3   4   5   6   7   8   9   10   11  12\n",
       "Google Ads Approximation  149  159  125  70  69  64  34  49  71  82  107  94"
      ]
     },
     "execution_count": 7,
     "metadata": {},
     "output_type": "execute_result"
    }
   ],
   "source": [
    "#grouping by google\n",
    "crm_new_google = crm_new[[\"Enquiry Month\",\"Google Ads Approximation\"]]\n",
    "crm_new_google = crm_new_google[crm_new_google[\"Google Ads Approximation\"].str.contains(\"-\") == False]\n",
    "crm_new_google = crm_new_google.groupby([\"Enquiry Month\"]).count().swapaxes(\"index\",\"columns\")\n",
    "crm_new_google"
   ]
  },
  {
   "cell_type": "markdown",
   "id": "a42c7383-2c36-496d-b672-1446005ff1ee",
   "metadata": {},
   "source": [
    "### Conversions"
   ]
  },
  {
   "cell_type": "code",
   "execution_count": 27,
   "id": "e25b63d2-cfc6-4b83-a5f3-1f727197cb57",
   "metadata": {},
   "outputs": [],
   "source": [
    "crm_new_conversions = crm_new[crm_new[\"Status\"].str.contains(\"Closed\", regex = False)]"
   ]
  },
  {
   "cell_type": "markdown",
   "id": "bb8dcaa8-cc89-498e-ab10-ac67f331742b",
   "metadata": {},
   "source": [
    "#### Total"
   ]
  },
  {
   "cell_type": "code",
   "execution_count": 21,
   "id": "682b9c38-0a3d-431f-b738-10455799dd3e",
   "metadata": {},
   "outputs": [
    {
     "data": {
      "text/html": [
       "<div>\n",
       "<style scoped>\n",
       "    .dataframe tbody tr th:only-of-type {\n",
       "        vertical-align: middle;\n",
       "    }\n",
       "\n",
       "    .dataframe tbody tr th {\n",
       "        vertical-align: top;\n",
       "    }\n",
       "\n",
       "    .dataframe thead th {\n",
       "        text-align: right;\n",
       "    }\n",
       "</style>\n",
       "<table border=\"1\" class=\"dataframe\">\n",
       "  <thead>\n",
       "    <tr style=\"text-align: right;\">\n",
       "      <th>Enquiry Month</th>\n",
       "      <th>1</th>\n",
       "      <th>2</th>\n",
       "      <th>3</th>\n",
       "      <th>4</th>\n",
       "      <th>5</th>\n",
       "      <th>6</th>\n",
       "      <th>7</th>\n",
       "      <th>8</th>\n",
       "      <th>9</th>\n",
       "      <th>10</th>\n",
       "      <th>11</th>\n",
       "      <th>12</th>\n",
       "    </tr>\n",
       "  </thead>\n",
       "  <tbody>\n",
       "    <tr>\n",
       "      <th>Status</th>\n",
       "      <td>64</td>\n",
       "      <td>88</td>\n",
       "      <td>78</td>\n",
       "      <td>24</td>\n",
       "      <td>29</td>\n",
       "      <td>33</td>\n",
       "      <td>14</td>\n",
       "      <td>15</td>\n",
       "      <td>22</td>\n",
       "      <td>29</td>\n",
       "      <td>55</td>\n",
       "      <td>39</td>\n",
       "    </tr>\n",
       "  </tbody>\n",
       "</table>\n",
       "</div>"
      ],
      "text/plain": [
       "Enquiry Month  1   2   3   4   5   6   7   8   9   10  11  12\n",
       "Status         64  88  78  24  29  33  14  15  22  29  55  39"
      ]
     },
     "execution_count": 21,
     "metadata": {},
     "output_type": "execute_result"
    }
   ],
   "source": [
    "crm_new_conversions_total = crm_new[[\"Enquiry Month\",\"Status\"]]\n",
    "crm_new_conversions_total = crm_new_conversions_total[crm_new_conversions_total[\"Status\"].str.contains(\"Closed\", regex = False)]\n",
    "crm_new_conversions_total.groupby([\"Enquiry Month\"]).count().sort_values(by = [\"Enquiry Month\"]).swapaxes(\"index\",\"columns\")"
   ]
  },
  {
   "cell_type": "markdown",
   "id": "c665f574-e0d2-4333-9883-bd7821d245c7",
   "metadata": {},
   "source": [
    "#### Prospected & Google"
   ]
  },
  {
   "cell_type": "code",
   "execution_count": 31,
   "id": "0c810c6f-0590-4636-b022-5fec80edb14c",
   "metadata": {},
   "outputs": [
    {
     "data": {
      "text/html": [
       "<div>\n",
       "<style scoped>\n",
       "    .dataframe tbody tr th:only-of-type {\n",
       "        vertical-align: middle;\n",
       "    }\n",
       "\n",
       "    .dataframe tbody tr th {\n",
       "        vertical-align: top;\n",
       "    }\n",
       "\n",
       "    .dataframe thead th {\n",
       "        text-align: right;\n",
       "    }\n",
       "</style>\n",
       "<table border=\"1\" class=\"dataframe\">\n",
       "  <thead>\n",
       "    <tr style=\"text-align: right;\">\n",
       "      <th>Enquiry Month</th>\n",
       "      <th>1</th>\n",
       "      <th>2</th>\n",
       "      <th>3</th>\n",
       "      <th>4</th>\n",
       "      <th>5</th>\n",
       "      <th>6</th>\n",
       "      <th>7</th>\n",
       "      <th>8</th>\n",
       "      <th>9</th>\n",
       "      <th>10</th>\n",
       "      <th>11</th>\n",
       "      <th>12</th>\n",
       "    </tr>\n",
       "    <tr>\n",
       "      <th>Client Prospected</th>\n",
       "      <th></th>\n",
       "      <th></th>\n",
       "      <th></th>\n",
       "      <th></th>\n",
       "      <th></th>\n",
       "      <th></th>\n",
       "      <th></th>\n",
       "      <th></th>\n",
       "      <th></th>\n",
       "      <th></th>\n",
       "      <th></th>\n",
       "      <th></th>\n",
       "    </tr>\n",
       "  </thead>\n",
       "  <tbody>\n",
       "    <tr>\n",
       "      <th>Not Sent Prospecting Email</th>\n",
       "      <td>55</td>\n",
       "      <td>59</td>\n",
       "      <td>47</td>\n",
       "      <td>13</td>\n",
       "      <td>22</td>\n",
       "      <td>24</td>\n",
       "      <td>7</td>\n",
       "      <td>13</td>\n",
       "      <td>19</td>\n",
       "      <td>23</td>\n",
       "      <td>37</td>\n",
       "      <td>36</td>\n",
       "    </tr>\n",
       "    <tr>\n",
       "      <th>Sent Prospecting Email</th>\n",
       "      <td>9</td>\n",
       "      <td>29</td>\n",
       "      <td>31</td>\n",
       "      <td>11</td>\n",
       "      <td>7</td>\n",
       "      <td>9</td>\n",
       "      <td>7</td>\n",
       "      <td>2</td>\n",
       "      <td>3</td>\n",
       "      <td>6</td>\n",
       "      <td>18</td>\n",
       "      <td>3</td>\n",
       "    </tr>\n",
       "  </tbody>\n",
       "</table>\n",
       "</div>"
      ],
      "text/plain": [
       "Enquiry Month               1   2   3   4   5   6   7   8   9   10  11  12\n",
       "Client Prospected                                                         \n",
       "Not Sent Prospecting Email  55  59  47  13  22  24   7  13  19  23  37  36\n",
       "Sent Prospecting Email       9  29  31  11   7   9   7   2   3   6  18   3"
      ]
     },
     "execution_count": 31,
     "metadata": {},
     "output_type": "execute_result"
    }
   ],
   "source": [
    "#grouping by prospected\n",
    "crm_new_conversions_prospected = crm_new_conversions.groupby([\"Enquiry Month\",\"Client Prospected\"]).count().sort_values(by = [\"Enquiry Month\"]).pivot_table(index = [\"Client Prospected\"], columns = \"Enquiry Month\", values = \"Lead Source\")\n",
    "crm_new_conversions_prospected"
   ]
  },
  {
   "cell_type": "code",
   "execution_count": 32,
   "id": "31fa7316-1a14-487e-bea9-933d2dbc26e3",
   "metadata": {},
   "outputs": [
    {
     "data": {
      "text/html": [
       "<div>\n",
       "<style scoped>\n",
       "    .dataframe tbody tr th:only-of-type {\n",
       "        vertical-align: middle;\n",
       "    }\n",
       "\n",
       "    .dataframe tbody tr th {\n",
       "        vertical-align: top;\n",
       "    }\n",
       "\n",
       "    .dataframe thead th {\n",
       "        text-align: right;\n",
       "    }\n",
       "</style>\n",
       "<table border=\"1\" class=\"dataframe\">\n",
       "  <thead>\n",
       "    <tr style=\"text-align: right;\">\n",
       "      <th>Enquiry Month</th>\n",
       "      <th>1</th>\n",
       "      <th>2</th>\n",
       "      <th>3</th>\n",
       "      <th>4</th>\n",
       "      <th>5</th>\n",
       "      <th>6</th>\n",
       "      <th>7</th>\n",
       "      <th>8</th>\n",
       "      <th>9</th>\n",
       "      <th>10</th>\n",
       "      <th>11</th>\n",
       "      <th>12</th>\n",
       "    </tr>\n",
       "  </thead>\n",
       "  <tbody>\n",
       "    <tr>\n",
       "      <th>Google Ads Approximation</th>\n",
       "      <td>55</td>\n",
       "      <td>59</td>\n",
       "      <td>47</td>\n",
       "      <td>13</td>\n",
       "      <td>22</td>\n",
       "      <td>24</td>\n",
       "      <td>7</td>\n",
       "      <td>13</td>\n",
       "      <td>19</td>\n",
       "      <td>23</td>\n",
       "      <td>37</td>\n",
       "      <td>36</td>\n",
       "    </tr>\n",
       "  </tbody>\n",
       "</table>\n",
       "</div>"
      ],
      "text/plain": [
       "Enquiry Month             1   2   3   4   5   6   7   8   9   10  11  12\n",
       "Google Ads Approximation  55  59  47  13  22  24   7  13  19  23  37  36"
      ]
     },
     "execution_count": 32,
     "metadata": {},
     "output_type": "execute_result"
    }
   ],
   "source": [
    "#grouping by google\n",
    "crm_new_conversions_google = crm_new_conversions[[\"Enquiry Month\",\"Google Ads Approximation\"]]\n",
    "crm_new_conversions_google = crm_new_conversions_google[crm_new_conversions_google[\"Google Ads Approximation\"].str.contains(\"-\") == False]\n",
    "crm_new_conversions_google = crm_new_conversions_google.groupby([\"Enquiry Month\"]).count().swapaxes(\"index\",\"columns\")\n",
    "crm_new_conversions_google"
   ]
  },
  {
   "cell_type": "markdown",
   "id": "276852b8-e763-4313-b21f-e527726712c6",
   "metadata": {
    "tags": []
   },
   "source": [
    "# CRM Repeat"
   ]
  },
  {
   "cell_type": "markdown",
   "id": "e6e6370d-2741-42d4-a147-9a4bb5da9da1",
   "metadata": {
    "jp-MarkdownHeadingCollapsed": true,
    "tags": []
   },
   "source": [
    "## Enquires"
   ]
  },
  {
   "cell_type": "markdown",
   "id": "8c424023-89ff-488e-800a-e528a2879130",
   "metadata": {
    "jp-MarkdownHeadingCollapsed": true,
    "tags": []
   },
   "source": [
    "### Total"
   ]
  },
  {
   "cell_type": "code",
   "execution_count": 9,
   "id": "e2f4412a-d993-4f49-8502-6c3a5a64aa85",
   "metadata": {},
   "outputs": [],
   "source": [
    "crm_repeat_total = crm_repeat[[\"Enquiry Month\",\"Lead Source\"]]"
   ]
  },
  {
   "cell_type": "code",
   "execution_count": 10,
   "id": "119eb684-7f8a-458d-a77d-98bd8fa8d36a",
   "metadata": {},
   "outputs": [
    {
     "data": {
      "text/html": [
       "<div>\n",
       "<style scoped>\n",
       "    .dataframe tbody tr th:only-of-type {\n",
       "        vertical-align: middle;\n",
       "    }\n",
       "\n",
       "    .dataframe tbody tr th {\n",
       "        vertical-align: top;\n",
       "    }\n",
       "\n",
       "    .dataframe thead th {\n",
       "        text-align: right;\n",
       "    }\n",
       "</style>\n",
       "<table border=\"1\" class=\"dataframe\">\n",
       "  <thead>\n",
       "    <tr style=\"text-align: right;\">\n",
       "      <th>Enquiry Month</th>\n",
       "      <th>1</th>\n",
       "      <th>2</th>\n",
       "      <th>3</th>\n",
       "      <th>4</th>\n",
       "      <th>5</th>\n",
       "      <th>6</th>\n",
       "      <th>7</th>\n",
       "      <th>8</th>\n",
       "      <th>9</th>\n",
       "      <th>10</th>\n",
       "      <th>11</th>\n",
       "      <th>12</th>\n",
       "    </tr>\n",
       "  </thead>\n",
       "  <tbody>\n",
       "    <tr>\n",
       "      <th>Lead Source</th>\n",
       "      <td>113</td>\n",
       "      <td>192</td>\n",
       "      <td>204</td>\n",
       "      <td>137</td>\n",
       "      <td>107</td>\n",
       "      <td>129</td>\n",
       "      <td>70</td>\n",
       "      <td>70</td>\n",
       "      <td>141</td>\n",
       "      <td>154</td>\n",
       "      <td>178</td>\n",
       "      <td>50</td>\n",
       "    </tr>\n",
       "  </tbody>\n",
       "</table>\n",
       "</div>"
      ],
      "text/plain": [
       "Enquiry Month   1    2    3    4    5    6   7   8    9    10   11  12\n",
       "Lead Source    113  192  204  137  107  129  70  70  141  154  178  50"
      ]
     },
     "execution_count": 10,
     "metadata": {},
     "output_type": "execute_result"
    }
   ],
   "source": [
    "crm_repeat_total.groupby([\"Enquiry Month\"]).count().sort_values(by = [\"Enquiry Month\"]).swapaxes(\"index\",\"columns\")"
   ]
  },
  {
   "cell_type": "markdown",
   "id": "cc8282bd-ed9f-43bb-bc71-5fd8153e233e",
   "metadata": {
    "tags": []
   },
   "source": [
    "### Prospected & Google"
   ]
  },
  {
   "cell_type": "code",
   "execution_count": 11,
   "id": "78cc0d8e-ccab-45f0-a099-80aff53b1036",
   "metadata": {},
   "outputs": [
    {
     "data": {
      "text/html": [
       "<div>\n",
       "<style scoped>\n",
       "    .dataframe tbody tr th:only-of-type {\n",
       "        vertical-align: middle;\n",
       "    }\n",
       "\n",
       "    .dataframe tbody tr th {\n",
       "        vertical-align: top;\n",
       "    }\n",
       "\n",
       "    .dataframe thead th {\n",
       "        text-align: right;\n",
       "    }\n",
       "</style>\n",
       "<table border=\"1\" class=\"dataframe\">\n",
       "  <thead>\n",
       "    <tr style=\"text-align: right;\">\n",
       "      <th>Enquiry Month</th>\n",
       "      <th>1</th>\n",
       "      <th>2</th>\n",
       "      <th>3</th>\n",
       "      <th>4</th>\n",
       "      <th>5</th>\n",
       "      <th>6</th>\n",
       "      <th>7</th>\n",
       "      <th>8</th>\n",
       "      <th>9</th>\n",
       "      <th>10</th>\n",
       "      <th>11</th>\n",
       "      <th>12</th>\n",
       "    </tr>\n",
       "    <tr>\n",
       "      <th>Client Prospected</th>\n",
       "      <th></th>\n",
       "      <th></th>\n",
       "      <th></th>\n",
       "      <th></th>\n",
       "      <th></th>\n",
       "      <th></th>\n",
       "      <th></th>\n",
       "      <th></th>\n",
       "      <th></th>\n",
       "      <th></th>\n",
       "      <th></th>\n",
       "      <th></th>\n",
       "    </tr>\n",
       "  </thead>\n",
       "  <tbody>\n",
       "    <tr>\n",
       "      <th>Not Sent Prospecting Email</th>\n",
       "      <td>92</td>\n",
       "      <td>161</td>\n",
       "      <td>162</td>\n",
       "      <td>106</td>\n",
       "      <td>82</td>\n",
       "      <td>105</td>\n",
       "      <td>52</td>\n",
       "      <td>48</td>\n",
       "      <td>96</td>\n",
       "      <td>78</td>\n",
       "      <td>97</td>\n",
       "      <td>33</td>\n",
       "    </tr>\n",
       "    <tr>\n",
       "      <th>Sent Prospecting Email</th>\n",
       "      <td>21</td>\n",
       "      <td>31</td>\n",
       "      <td>42</td>\n",
       "      <td>31</td>\n",
       "      <td>25</td>\n",
       "      <td>24</td>\n",
       "      <td>18</td>\n",
       "      <td>22</td>\n",
       "      <td>45</td>\n",
       "      <td>76</td>\n",
       "      <td>81</td>\n",
       "      <td>17</td>\n",
       "    </tr>\n",
       "  </tbody>\n",
       "</table>\n",
       "</div>"
      ],
      "text/plain": [
       "Enquiry Month               1    2    3    4   5    6   7   8   9   10  11  12\n",
       "Client Prospected                                                             \n",
       "Not Sent Prospecting Email  92  161  162  106  82  105  52  48  96  78  97  33\n",
       "Sent Prospecting Email      21   31   42   31  25   24  18  22  45  76  81  17"
      ]
     },
     "execution_count": 11,
     "metadata": {},
     "output_type": "execute_result"
    }
   ],
   "source": [
    "#grouping by prospected\n",
    "crm_repeat_prospected = crm_repeat.groupby([\"Enquiry Month\",\"Client Prospected\"]).count().sort_values(by = [\"Enquiry Month\"]).pivot_table(index = [\"Client Prospected\"], columns = \"Enquiry Month\", values = \"Lead Source\")\n",
    "crm_repeat_prospected"
   ]
  },
  {
   "cell_type": "code",
   "execution_count": 12,
   "id": "14d15f24-8933-4189-acca-0163729ac711",
   "metadata": {},
   "outputs": [
    {
     "data": {
      "text/plain": [
       "Enquiry Month               0\n",
       "Google Ads Approximation    0\n",
       "dtype: int64"
      ]
     },
     "execution_count": 12,
     "metadata": {},
     "output_type": "execute_result"
    }
   ],
   "source": [
    "#grouping by google\n",
    "crm_repeat_google = crm_repeat[[\"Enquiry Month\",\"Google Ads Approximation\"]]\n",
    "crm_repeat_google = crm_repeat_google[crm_repeat_google[\"Google Ads Approximation\"].str.contains(\"-\") == False]\n",
    "#crm_repeat_google = crm_repeat_google.groupby([\"Enquiry Month\"]).count().swapaxes(\"index\",\"columns\")\n",
    "crm_repeat_google.count()"
   ]
  },
  {
   "cell_type": "markdown",
   "id": "e976fc05-a06c-4f31-a107-d5a327f98aeb",
   "metadata": {
    "tags": []
   },
   "source": [
    "## Conversions"
   ]
  },
  {
   "cell_type": "code",
   "execution_count": 33,
   "id": "a67940a5-3d6f-4003-a712-5126b67702b8",
   "metadata": {},
   "outputs": [],
   "source": [
    "crm_repeat_converions = crm_repeat[crm_repeat[\"Status\"].str.contains(\"Closed\", regex = False)]"
   ]
  },
  {
   "cell_type": "markdown",
   "id": "ab52bf26-10a9-465d-967a-09d75dff4cb8",
   "metadata": {},
   "source": [
    "### Total"
   ]
  },
  {
   "cell_type": "code",
   "execution_count": 35,
   "id": "c3850304-8073-4efb-8477-1fddc5e3ed9a",
   "metadata": {},
   "outputs": [
    {
     "data": {
      "text/html": [
       "<div>\n",
       "<style scoped>\n",
       "    .dataframe tbody tr th:only-of-type {\n",
       "        vertical-align: middle;\n",
       "    }\n",
       "\n",
       "    .dataframe tbody tr th {\n",
       "        vertical-align: top;\n",
       "    }\n",
       "\n",
       "    .dataframe thead th {\n",
       "        text-align: right;\n",
       "    }\n",
       "</style>\n",
       "<table border=\"1\" class=\"dataframe\">\n",
       "  <thead>\n",
       "    <tr style=\"text-align: right;\">\n",
       "      <th>Enquiry Month</th>\n",
       "      <th>1</th>\n",
       "      <th>2</th>\n",
       "      <th>3</th>\n",
       "      <th>4</th>\n",
       "      <th>5</th>\n",
       "      <th>6</th>\n",
       "      <th>7</th>\n",
       "      <th>8</th>\n",
       "      <th>9</th>\n",
       "      <th>10</th>\n",
       "      <th>11</th>\n",
       "      <th>12</th>\n",
       "    </tr>\n",
       "  </thead>\n",
       "  <tbody>\n",
       "    <tr>\n",
       "      <th>Status</th>\n",
       "      <td>60</td>\n",
       "      <td>100</td>\n",
       "      <td>113</td>\n",
       "      <td>79</td>\n",
       "      <td>52</td>\n",
       "      <td>60</td>\n",
       "      <td>33</td>\n",
       "      <td>27</td>\n",
       "      <td>53</td>\n",
       "      <td>87</td>\n",
       "      <td>109</td>\n",
       "      <td>21</td>\n",
       "    </tr>\n",
       "  </tbody>\n",
       "</table>\n",
       "</div>"
      ],
      "text/plain": [
       "Enquiry Month  1    2    3   4   5   6   7   8   9   10   11  12\n",
       "Status         60  100  113  79  52  60  33  27  53  87  109  21"
      ]
     },
     "execution_count": 35,
     "metadata": {},
     "output_type": "execute_result"
    }
   ],
   "source": [
    "crm_repeat_conversions_total = crm_repeat[[\"Enquiry Month\",\"Status\"]]\n",
    "crm_repeat_conversions_total = crm_repeat_conversions_total[crm_repeat_conversions_total[\"Status\"].str.contains(\"Closed\", regex = False)]\n",
    "crm_repeat_conversions_total.groupby([\"Enquiry Month\"]).count().sort_values(by = [\"Enquiry Month\"]).swapaxes(\"index\",\"columns\")"
   ]
  },
  {
   "cell_type": "code",
   "execution_count": null,
   "id": "e6b1b4bc-b84f-4a1d-baa5-654d5187fbe3",
   "metadata": {},
   "outputs": [],
   "source": []
  }
 ],
 "metadata": {
  "kernelspec": {
   "display_name": "Python 3 (ipykernel)",
   "language": "python",
   "name": "python3"
  },
  "language_info": {
   "codemirror_mode": {
    "name": "ipython",
    "version": 3
   },
   "file_extension": ".py",
   "mimetype": "text/x-python",
   "name": "python",
   "nbconvert_exporter": "python",
   "pygments_lexer": "ipython3",
   "version": "3.7.12"
  }
 },
 "nbformat": 4,
 "nbformat_minor": 5
}
